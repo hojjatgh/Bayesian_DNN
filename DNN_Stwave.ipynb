{
 "cells": [
  {
   "cell_type": "code",
   "execution_count": 1,
   "metadata": {},
   "outputs": [
    {
     "name": "stderr",
     "output_type": "stream",
     "text": [
      "Using TensorFlow backend.\n"
     ]
    }
   ],
   "source": [
    "import numpy as np\n",
    "import matplotlib.pyplot as plt\n",
    "from scipy.io import savemat, loadmat\n",
    "import stwave as st\n",
    "import math\n",
    "from cskf import CSKF\n",
    "import DNN_Net"
   ]
  },
  {
   "cell_type": "code",
   "execution_count": 2,
   "metadata": {},
   "outputs": [],
   "source": [
    "def generate_Q(xmin, dx,length_x, nx, L, kernel= 'Gaussian'):\n",
    "    \"\"\"\n",
    "    Generate covariance matrix for the given 2D grid\n",
    "\n",
    "    inputs:\n",
    "    @ xmin:   a list containing minimum values for x and y coordinates, [x_1, x_2].\n",
    "    @ dx      a list containing the increment in the x and y directions.\n",
    "    @ dx:     a list containing the length of domain in the x and y directions.\n",
    "    @ nx:     a list containing the number of cells in the x and y directions.\n",
    "    @ L:      a list containing the length scale in the x and y directions.\n",
    "    Kernel:   The type of kernel for the covariance matrix\n",
    "    \n",
    "    Output:\n",
    "    Q:        Covariance matrix\n",
    "    \"\"\"\n",
    "    \n",
    "    xr = np.linspace(xmin[0]+.5*dx[0],  xmin[0]+length_x[0]-.5*dx[0], nx[0])\n",
    "    yr = np.linspace(xmin[1]+.5*dx[1],  xmin[1]+length_x[1]-.5*dx[1],nx[1])\n",
    "    x, y = np.meshgrid(xr, yr)\n",
    "    x1, x2 = np.meshgrid(x, x)\n",
    "    y1, y2 = np.meshgrid(y,y)\n",
    "    distance_x = (x1-x2)**2\n",
    "    distance_y = (y1-y2)**2\n",
    "    distance = distance_x/(L[0]**2)+distance_y/(L[1]**2)\n",
    "    if kernel == 'Gaussian':\n",
    "        Q = np.exp(-distance)\n",
    "    elif kernel == 'Exponential':\n",
    "        Q = np.exp(-np.sqrt(distance))\n",
    "    else:\n",
    "        raise NotImplementedError\n",
    "        \n",
    "\treturn Q\n",
    "\n",
    "def initializer_dist(bc_l, nx, distribution = 'linear', bc_r = None):\n",
    "    \"\"\"\n",
    "    Generates an initial bathymetry distribution for the domain\n",
    "    \n",
    "    inputs:\n",
    "    @ bc_l               Bathymetry value at left (near the shore)\n",
    "    @ nx                 a list containing the length of domain in the x and y directions.\n",
    "    @ distribution:      Type of distribution for the initial condition\n",
    "    \n",
    "    \"\"\"\n",
    "    \n",
    "    \n",
    "    if distribution == 'linear':\n",
    "        linear_variation = np.linspace(bc_l, bc_r, nx[0]).reshape(1,nx[0])\n",
    "        Initial_dist = np.ones((nx[1],nx[0]))*linear_variation\n",
    "        Initial_dist = Initial_dist.reshape(nx[0]*nx[1],1)\n",
    "    else:\n",
    "        raise NotImplementedError\n",
    "\n",
    "    return Initial_dist\n",
    "    \n",
    "def forward_model(s, parallel, ncores=None):\n",
    "\tmodel = st.Model()\n",
    "\tif parallel:\n",
    "\t\tsimul_obs = model.run(s, parallel, ncores)\n",
    "\telse:\n",
    "\t\tsimul_obs = model.run(s, parallel)\n",
    "\treturn simul_obs\n",
    "\n",
    "def observation_model(x, H, lin):\n",
    "\tif lin == 'linear':\n",
    "\t\treturn np.dot(H, x)\n",
    "\tif lin == 'non_linear':\n",
    "\t\treturn np.dot(H, np.sqrt(x))\n",
    "    \n",
    "def create_sub_samples(prof_vel, prof_dep, rec_len, nx):\n",
    "    \n",
    "    \"\"\"\n",
    "    This function will get the wave celerity and bathymetry values for the whole domain and generate a two dimentional \n",
    "    numpy arrays X and a 1D numpy array y. The i'th column of X contains the wave celerity values in a square with length 'rec_len' around the\n",
    "    i'th grid point. The y(i) contains the bathymetry value corresponding to i'th grid point.\n",
    "    \n",
    "    inputs:\n",
    "    \n",
    "    @ prof_vel:         a 2D numpy array containg the wave celerity for the domain\n",
    "    @ prof_dep:         a 2D numpy array containg the depth for the domain\n",
    "    @ rec_len:          The length of the square around each grid point for measuring wave celerity. rec_len should be an odd integer\n",
    "    @ nx                a list containing the length of domain in the x and y directions.\n",
    "    \n",
    "    outputs:\n",
    "    X:                  2D numpy array of size (rec_len**2, N) containing the wave celerity (inputs of DNN)\n",
    "    y:                  1D numpy array of size (N, ) containing the bathymetry values (outputs of DNN)\n",
    "    \"\"\"\n",
    "    \n",
    "    n_prof = prof_vel.shape[1]\n",
    "    n_sample_per_prof = (nx[1]-rec_len+1)*(nx[0]-rec_len+1)\n",
    "    n_sample = n_sample_per_prof*n_prof\n",
    "    X = np.zeros((rec_len**2, n_sample))\n",
    "    #print(X.shape)\n",
    "    y = np.zeros((n_sample,1))\n",
    "    kk=0\n",
    "    for i in range(n_prof):\n",
    "        dom_vel = np.reshape(prof_vel[:,i], (nx[1],nx[0]))\n",
    "        dom = np.reshape(prof_dep[:,i], (nx[1],nx[0]))\n",
    "        for j in range((rec_len-1)//2, nx[0]-((rec_len-1)//2)):\n",
    "            for k in range((rec_len-1)//2, nx[1]-((rec_len-1)//2)):\n",
    "                X[:,kk] = dom_vel[k-(rec_len-1)//2:k+(rec_len-1)//2+1, j-(rec_len-1)//2:j+(rec_len-1)//2+1].ravel()\n",
    "                y[kk]= dom[k,j]\n",
    "                kk+=1\n",
    "    \n",
    "    return X, y\n",
    "\n",
    "\n",
    "def create_sub_samples_test(prof_vel, rec_len, nx):\n",
    "    \n",
    "    \"\"\"\n",
    "    This function will get the wave celerity and bathymetry values for the whole domain and generate a two dimentional \n",
    "    numpy arrays X and a 1D numpy array y. The i'th column of X contains the wave celerity values in a square with length 'rec_len' around the\n",
    "    i'th grid point. The y(i) contains the bathymetry value corresponding to i'th grid point.\n",
    "    \n",
    "    inputs:\n",
    "    \n",
    "    @ prof_vel:         a 2D numpy array containg the wave celerity for the domain\n",
    "    @ prof_dep:         a 2D numpy array containg the depth for the domain\n",
    "    @ rec_len:          The length of the square around each grid point for measuring wave celerity. rec_len should be an odd integer\n",
    "    @ nx                a list containing the length of domain in the x and y directions.\n",
    "    \n",
    "    outputs:\n",
    "    X:                  2D numpy array of size (rec_len**2, N) containing the wave celerity (inputs of DNN)\n",
    "    y:                  1D numpy array of size (N, ) containing the bathymetry values (outputs of DNN)\n",
    "    \"\"\"\n",
    "    \n",
    "    n_prof = prof_vel.shape[1]\n",
    "    n_sample_per_prof = (nx[1]-rec_len+1)*(nx[0]-rec_len+1)\n",
    "    n_sample = n_sample_per_prof*n_prof\n",
    "    X = np.zeros((rec_len**2, n_sample))\n",
    "    #print(X.shape)\n",
    "    y = np.zeros((n_sample,1))\n",
    "    kk=0\n",
    "    for i in range(n_prof):\n",
    "        dom_vel = np.reshape(prof_vel[:,i], (nx[1],nx[0]))\n",
    "        for j in range((rec_len-1)//2, nx[0]-((rec_len-1)//2)):\n",
    "            for k in range((rec_len-1)//2, nx[1]-((rec_len-1)//2)):\n",
    "                X[:,kk] = dom_vel[k-(rec_len-1)//2:k+(rec_len-1)//2+1, j-(rec_len-1)//2:j+(rec_len-1)//2+1].ravel()\n",
    "                kk+=1\n",
    "    \n",
    "    return X\n",
    "\n",
    "\n",
    "\n",
    "def generate_training_data(n_dom, min_bc_l, max_bc_l, nx, rec_len, A, sig_obs, save_data = True):\n",
    "    \n",
    "    \"\"\"\n",
    "    Generates synhetic training data by creating n_dom bathymetry profiles and then creating X and y arrays by calling \n",
    "    create_sub_samples function for each domain.\n",
    "    \n",
    "    \n",
    "    \"\"\"\n",
    "    \n",
    "    bc_r = 0\n",
    "    bc_l = np.linspace(min_bc_l, max_bc_l, n_dom)\n",
    "    distribution = \"linear\"\n",
    "    initial_dist = initializer_dist(bc_l[0], bc_r, nx, distribution)\n",
    "    obs_vel = forward_model(initial_dist, parallel=False)\n",
    "    bathy = np.array(initial_dist).reshape(1,-1)\n",
    "    obs = np.array(obs_vel).reshape(1,-1)\n",
    "    obs_vel = obs_vel +np.random.randn(110*83,1)*sig_obs\n",
    "    X_tr,y_tr = create_sub_samples(obs_vel,initial_dist, rec_len, nx)\n",
    "    X_tr = X_tr.T\n",
    "    for i in range(n_dom):\n",
    "        initial_dist = initializer_dist(bc_l[i], bc_r, nx, distribution)\n",
    "        b=np.dot(A.T,np.random.randn(110*83,1))*.05\n",
    "        input_bathy = initial_dist+b\n",
    "        obs_vel = forward_model(input_bathy, parallel=False)\n",
    "        obs_true = obs_vel.reshape(1,-1)\n",
    "        obs_vel = obs_vel +np.random.randn(110*83,1)*sig_obs\n",
    "        X_obs,y_obs = create_sub_samples(obs_vel,input_bathy, rec_len, nx)\n",
    "        X_tr = np.concatenate((X_tr,X_obs.T), axis=0)\n",
    "        y_tr = np.concatenate((y_tr,y_obs), axis=0)\n",
    "        bathy = np.concatenate((bathy,input_bathy.reshape(1,-1)), axis =0)\n",
    "        obs = np.concatenate((obs,obs_true), axis =0)\n",
    "    if save_data:\n",
    "        savemat('training_data.mat',{'X_tr': X_tr, 'y_tr': y_tr})\n",
    "        savemat('training_data_whole_domain.mat',{'bathy': bathy, 'obs': obs})\n",
    "    \n",
    "    return X_tr, y_tr\n",
    "\n",
    "def generate_test_data(rec_len, A, nx, sig_obs, save_data = True):\n",
    "\n",
    "    data = loadmat('true_depth.mat', squeeze_me=True)\n",
    "    ref_bathy = data['true']\n",
    "    ref_bathy[ref_bathy<0.01] = 0.01\n",
    "    ref_bathy = ref_bathy.reshape(-1,1)\n",
    "    obs_vel = forward_model(ref_bathy, parallel=False)\n",
    "    obs_vel = obs_vel +np.random.randn(110*83,1)*.1\n",
    "    X_test,y_test = create_sub_samples(obs_vel,ref_bathy, rec_len, nx)\n",
    "    if save_data:\n",
    "        savemat('test_data.mat',{'X_test': X_test, 'y_test': y_test})\n",
    "    \n",
    "    return X_test, y_test\n",
    "    \n",
    " \n",
    "def generate_cov(L_div, kernel = 'Gaussian', save_data = True):\n",
    "    xmin = np.array([0,0])\n",
    "    nx = np.array([110, 83])\n",
    "    dx = np.array([5., 5.])\n",
    "    length_x = nx*dx\n",
    "    Q = generate_Q(xmin, dx,length_x, nx, length_x/L_div, kernel) #generating Q matrix\n",
    "    A = np.linalg.cholesky(Q+.0001*np.eye(110*83))   \n",
    "    if save_data:\n",
    "        savemat('Cov.mat',{'Q': Q, 'A': A})\n",
    "    return Q, A\n",
    "\n",
    "\n",
    "def plot_im(data, nx, title, x_label, y_label, file_name=None, save_file = False):\n",
    "    plt.figure()\n",
    "    plt.imshow(data.reshape(nx[1],nx[0]))\n",
    "    plt.xlabel(x_label)\n",
    "    plt.ylabel(y_label)\n",
    "    plt.title(title)\n",
    "    plt.colorbar()\n",
    "    plt.show()  \n",
    "    if save_file:\n",
    "        plt.savefig(file_name)"
   ]
  },
  {
   "cell_type": "code",
   "execution_count": 3,
   "metadata": {},
   "outputs": [],
   "source": [
    "## Generate covariance matrix and it's cholescky factorization\n",
    "#L_div = 5\n",
    "#kernel = 'Gaussian'\n",
    "#save_data = True\n",
    "#Q, A = generate_cov(L_div, kernel, save_data)\n",
    "data_cov = loadmat('Cov.mat')\n",
    "Q= data_cov['Q']\n",
    "A = data_cov['A'] "
   ]
  },
  {
   "cell_type": "code",
   "execution_count": 4,
   "metadata": {},
   "outputs": [],
   "source": [
    "n_dom = 100\n",
    "min_bc_l = 5\n",
    "max_bc_l = 8\n",
    "nx = [110, 83]\n",
    "rec_len = 3\n",
    "sig_obs =.1\n",
    "\n",
    "## we can generate different training set with different kernel fcn or lenght scales and then stack them together\n",
    "#X_tr, y_tr = generate_training_data(n_dom, min_bc_l, max_bc_l, nx, rec_len, A, sig_obs)\n",
    "data_tr = loadmat('training_data.mat')\n",
    "X_tr = data_tr['X_tr']\n",
    "y_tr = data_tr['y_tr']\n"
   ]
  },
  {
   "cell_type": "code",
   "execution_count": 5,
   "metadata": {},
   "outputs": [],
   "source": [
    "assert (X_tr.shape[1] == rec_len**2), \"Dimension mismatch, X should have the dimention n_tr*rec_len^2\""
   ]
  },
  {
   "cell_type": "code",
   "execution_count": 6,
   "metadata": {},
   "outputs": [],
   "source": [
    "#X_test, y_test = generate_test_data(rec_len, A, nx, sig_obs, save_data)\n",
    "test_data = loadmat('test_data.mat')\n",
    "X_test = test_data['X_test']\n",
    "y_test_ref = test_data['y_test']\n",
    "X_test_ref = X_test.T"
   ]
  },
  {
   "cell_type": "code",
   "execution_count": 7,
   "metadata": {},
   "outputs": [],
   "source": [
    "from sklearn.model_selection import train_test_split\n",
    "X_train, X_test, y_train, y_test = train_test_split(X_tr,y_tr,test_size=0.1, random_state=101)\n",
    "\n",
    "np.random.seed(100)\n",
    "ord_shuffle = np.arange(X_train.shape[0])\n",
    "\n",
    "X = X_train[ord_shuffle,:]\n",
    "Y = y_train[ord_shuffle]"
   ]
  },
  {
   "cell_type": "code",
   "execution_count": 8,
   "metadata": {},
   "outputs": [
    {
     "name": "stdout",
     "output_type": "stream",
     "text": [
      "Train on 636154 samples, validate on 159039 samples\n",
      "Epoch 1/3\n",
      "636154/636154 [==============================] - 14s 22us/step - loss: 0.2134 - mean_squared_error: 0.0073 - val_loss: 0.1019 - val_mean_squared_error: 0.0036\n",
      "Epoch 2/3\n",
      "636154/636154 [==============================] - 14s 22us/step - loss: 0.0730 - mean_squared_error: 0.0033 - val_loss: 0.0570 - val_mean_squared_error: 0.0032\n",
      "Epoch 3/3\n",
      "636154/636154 [==============================] - 14s 22us/step - loss: 0.0517 - mean_squared_error: 0.0031 - val_loss: 0.0481 - val_mean_squared_error: 0.0030\n"
     ]
    }
   ],
   "source": [
    "network = DNN_Net.DNN_Net(X, Y, 4, [13,13,13,1], n_epoch = 3, Normalize = True, optimizer_meth = 'SGD', method = 'Ensemble')"
   ]
  },
  {
   "cell_type": "code",
   "execution_count": 9,
   "metadata": {},
   "outputs": [],
   "source": [
    "data = loadmat('true_depth.mat', squeeze_me=True)\n",
    "ref_bathy = data['true']\n",
    "ref_bathy[ref_bathy<0.01] = 0.01\n",
    "ref_bathy = ref_bathy.reshape(-1,1)\n",
    "obs_vel = forward_model(ref_bathy, parallel=False)\n",
    "obs_vel = obs_vel +np.random.randn(110*83,1)*.1\n",
    "n_ens = 100\n",
    "sig_pri = .1"
   ]
  },
  {
   "cell_type": "code",
   "execution_count": 10,
   "metadata": {},
   "outputs": [],
   "source": [
    "y_mean, y_std, Post_Cov = network.get_std_mean_ens(create_sub_samples_test, obs_vel, n_ens, rec_len, A, nx, sig_pri, prior_cov = 'Gaussian', save_data = False)"
   ]
  },
  {
   "cell_type": "code",
   "execution_count": null,
   "metadata": {},
   "outputs": [],
   "source": [
    "#y_mean, y_std, Post_Cov = network.get_std_mean_ens(forward_model, create_sub_samples, ref_bathy, n_ens, rec_len, A, nx, sig_pri,prior_cov = 'Gaussian', save_data = False)"
   ]
  },
  {
   "cell_type": "code",
   "execution_count": null,
   "metadata": {},
   "outputs": [],
   "source": [
    "y_mean_id, y_std_id, Post_Cov_id = network.get_std_mean_ens(forward_model, create_sub_samples, ref_bathy, n_ens, rec_len, A, nx, sig_pri,prior_cov = 'Identity', save_data = False)"
   ]
  },
  {
   "cell_type": "code",
   "execution_count": 11,
   "metadata": {},
   "outputs": [
    {
     "data": {
      "image/png": "[encoded data removed]",
      "text/plain": [
       "<Figure size 432x288 with 2 Axes>"
      ]
     },
     "metadata": {},
     "output_type": "display_data"
    },
    {
     "data": {
      "text/plain": [
       "<Figure size 432x288 with 0 Axes>"
      ]
     },
     "metadata": {},
     "output_type": "display_data"
    }
   ],
   "source": [
    "title = 'Estimated bathymetry'\n",
    "y_label = 'Offshore distance'\n",
    "x_label = 'Alongshore distance'\n",
    "file_name = 'DNN_bathy_Ens.jpg'\n",
    "\n",
    "plot_im(y_mean, [nx[1]-2, nx[0]-2], title, x_label, y_label, file_name, save_file = True)"
   ]
  },
  {
   "cell_type": "code",
   "execution_count": 12,
   "metadata": {},
   "outputs": [
    {
     "data": {
      "image/png": "[encoded data removed]",
      "text/plain": [
       "<Figure size 432x288 with 2 Axes>"
      ]
     },
     "metadata": {},
     "output_type": "display_data"
    },
    {
     "data": {
      "text/plain": [
       "<Figure size 432x288 with 0 Axes>"
      ]
     },
     "metadata": {},
     "output_type": "display_data"
    }
   ],
   "source": [
    "title = 'Estimated uncertainty'\n",
    "file_name = 'DNN_bathy_Ens_std.jpg'\n",
    "\n",
    "plot_im(y_std, [nx[1]-2, nx[0]-2], title, x_label, y_label, file_name, save_file = True)"
   ]
  },
  {
   "cell_type": "code",
   "execution_count": 13,
   "metadata": {},
   "outputs": [],
   "source": [
    "    "
   ]
  },
  {
   "cell_type": "code",
   "execution_count": 14,
   "metadata": {},
   "outputs": [
    {
     "data": {
      "image/png": "[encoded data removed]",
      "text/plain": [
       "<Figure size 432x288 with 2 Axes>"
      ]
     },
     "metadata": {},
     "output_type": "display_data"
    },
    {
     "data": {
      "text/plain": [
       "<Figure size 432x288 with 0 Axes>"
      ]
     },
     "metadata": {},
     "output_type": "display_data"
    }
   ],
   "source": [
    "title = 'Estimation erro'\n",
    "file_name = 'DNN_bathy_Ens_Err.jpg'\n",
    "\n",
    "plot_im(np.abs(y_test_ref - y_mean), [nx[1]-2, nx[0]-2], title, x_label, y_label, file_name, save_file = True)"
   ]
  },
  {
   "cell_type": "code",
   "execution_count": null,
   "metadata": {},
   "outputs": [],
   "source": [
    "a = y_mean.reshape((108, 81))\n",
    "b = y_test_ref.reshape((108, 81))\n",
    "c = y_std.reshape((108,81))"
   ]
  },
  {
   "cell_type": "code",
   "execution_count": null,
   "metadata": {},
   "outputs": [],
   "source": [
    "plt.plot(a[:,40])\n",
    "plt.plot(b[:,40])\n",
    "plt.plot(a[:,40]+2*c[:,40],'--')\n",
    "plt.plot(a[:,40]-2*c[:,40],'--')"
   ]
  },
  {
   "cell_type": "code",
   "execution_count": null,
   "metadata": {},
   "outputs": [],
   "source": [
    "savemat('UQ_DNN.mat',{'y_mean':y_mean,'y_std':y_std,'y_test_ref':y_test_ref})"
   ]
  },
  {
   "cell_type": "code",
   "execution_count": null,
   "metadata": {},
   "outputs": [],
   "source": [
    "title = 'Estimated bathy'\n",
    "file_name = 'DNN_bathy_Ens_Err.jpg'\n",
    "plot_im(y_mean_id, [nx[1]-2, nx[0]-2], title, x_label, y_label, file_name, save_file = True)"
   ]
  },
  {
   "cell_type": "code",
   "execution_count": null,
   "metadata": {},
   "outputs": [],
   "source": [
    "plot_im(y_std_id, [nx[1]-2, nx[0]-2], title, x_label, y_label, file_name, save_file = True)"
   ]
  },
  {
   "cell_type": "code",
   "execution_count": null,
   "metadata": {},
   "outputs": [],
   "source": [
    "title = 'Estimation erro'\n",
    "file_name = 'DNN_bathy_Ens_Err.jpg'\n",
    "\n",
    "plot_im(np.abs(y_test_ref - y_mean_id), [nx[1]-2, nx[0]-2], title, x_label, y_label, file_name, save_file = True)"
   ]
  },
  {
   "cell_type": "code",
   "execution_count": null,
   "metadata": {},
   "outputs": [],
   "source": []
  },
  {
   "cell_type": "code",
   "execution_count": null,
   "metadata": {},
   "outputs": [],
   "source": [
    "## Generate covariance matrix and it's cholescky factorization\n",
    "L_div = 10\n",
    "kernel = 'Gaussian'\n",
    "#save_data = True\n",
    "QQ, AA = generate_cov(L_div, kernel, save_data)\n"
   ]
  },
  {
   "cell_type": "code",
   "execution_count": null,
   "metadata": {},
   "outputs": [],
   "source": []
  },
  {
   "cell_type": "code",
   "execution_count": null,
   "metadata": {},
   "outputs": [],
   "source": [
    "b= np.dot(A, np.random.randn(9130,1))\n",
    "plt.imshow(b.reshape((83,110)))\n",
    "plt.colorbar()"
   ]
  },
  {
   "cell_type": "code",
   "execution_count": null,
   "metadata": {},
   "outputs": [],
   "source": []
  },
  {
   "cell_type": "code",
   "execution_count": null,
   "metadata": {},
   "outputs": [],
   "source": []
  },
  {
   "cell_type": "code",
   "execution_count": null,
   "metadata": {},
   "outputs": [],
   "source": [
    "sig_pri = 1\n",
    "y_mean, y_std, Post_Cov = network.get_std_mean_ens(forward_model, create_sub_samples, ref_bathy, n_ens, rec_len, A, nx, sig_pri,prior_cov = 'Gaussian', save_data = False)"
   ]
  },
  {
   "cell_type": "code",
   "execution_count": null,
   "metadata": {},
   "outputs": [],
   "source": [
    "y_mean_id, y_std_id, Post_Cov_id = network.get_std_mean_ens(forward_model, create_sub_samples, ref_bathy, n_ens, rec_len, A, nx, sig_pri,prior_cov = 'Identity', save_data = False)"
   ]
  },
  {
   "cell_type": "code",
   "execution_count": null,
   "metadata": {},
   "outputs": [],
   "source": [
    "title = 'Estimated bathymetry'\n",
    "file_name = 'DNN_bathy_Ens_R1.jpg'\n",
    "\n",
    "plot_im(y_mean, [nx[1]-2, nx[0]-2], title, x_label, y_label, file_name, save_file = True)"
   ]
  },
  {
   "cell_type": "code",
   "execution_count": null,
   "metadata": {},
   "outputs": [],
   "source": [
    "title = 'Estimated uncertainty'\n",
    "file_name = 'DNN_bathy_Ens_std_R1.jpg'\n",
    "\n",
    "plot_im(y_std, [nx[1]-2, nx[0]-2], title, x_label, y_label, file_name, save_file = True)"
   ]
  },
  {
   "cell_type": "code",
   "execution_count": null,
   "metadata": {},
   "outputs": [],
   "source": [
    "title = 'Estimation erro'\n",
    "file_name = 'DNN_bathy_Ens_Err.jpg'\n",
    "\n",
    "plot_im(np.abs(y_test_ref - y_mean), [nx[1]-2, nx[0]-2], title, x_label, y_label, file_name, save_file = True)"
   ]
  },
  {
   "cell_type": "code",
   "execution_count": null,
   "metadata": {},
   "outputs": [],
   "source": [
    "title = 'Estimated bathymetry'\n",
    "file_name = 'DNN_bathy_Ens_R1.jpg'\n",
    "\n",
    "plot_im(y_mean_id, [nx[1]-2, nx[0]-2], title, x_label, y_label, file_name, save_file = True)"
   ]
  },
  {
   "cell_type": "code",
   "execution_count": null,
   "metadata": {},
   "outputs": [],
   "source": [
    "title = 'Estimated uncertainty'\n",
    "file_name = 'DNN_bathy_Ens_std_R1.jpg'\n",
    "\n",
    "plot_im(y_std_id, [nx[1]-2, nx[0]-2], title, x_label, y_label, file_name, save_file = True)"
   ]
  },
  {
   "cell_type": "code",
   "execution_count": null,
   "metadata": {},
   "outputs": [],
   "source": [
    "title = 'Estimation erro'\n",
    "file_name = 'DNN_bathy_Ens_Err.jpg'\n",
    "\n",
    "plot_im(np.abs(y_test_ref - y_mean_id), [nx[1]-2, nx[0]-2], title, x_label, y_label, file_name, save_file = True)"
   ]
  },
  {
   "cell_type": "code",
   "execution_count": null,
   "metadata": {},
   "outputs": [],
   "source": [
    "network = DNN_Net.DNN_Net(X, Y, 4, [20,20,12,1], n_epoch = 3, Normalize = True, optimizer_meth = 'SGD', method = 'dropout', dropout = .2)"
   ]
  },
  {
   "cell_type": "code",
   "execution_count": null,
   "metadata": {},
   "outputs": [],
   "source": [
    "Yt_hat = network.get_std_mean_MC_dropout(forward_model, create_sub_samples, ref_bathy, rec_len, nx, save_data = False)"
   ]
  },
  {
   "cell_type": "code",
   "execution_count": null,
   "metadata": {},
   "outputs": [],
   "source": [
    "Y_drop = Yt_hat.squeeze()\n",
    "Y_mean_drop = np.mean(Y_drop,axis=0)\n",
    "std_drop = np.std(Y_drop, axis=0)"
   ]
  },
  {
   "cell_type": "code",
   "execution_count": null,
   "metadata": {},
   "outputs": [],
   "source": [
    "#title = 'Estimated bathymetry'\n",
    "#y_label = 'Offshore distance'\n",
    "#x_label = 'Alongshore distance'\n",
    "#file_name = 'DNN_bathy_Ens.jpg'\n",
    "\n",
    "#plot_im(Y_mean_drop, [nx[1]-2, nx[0]-2], title, x_label, y_label, file_name, save_file = True)\n",
    "#plot_im(std_drop, [nx[1]-2, nx[0]-2], title, x_label, y_label, file_name, save_file = True)"
   ]
  },
  {
   "cell_type": "code",
   "execution_count": null,
   "metadata": {},
   "outputs": [],
   "source": []
  },
  {
   "cell_type": "code",
   "execution_count": null,
   "metadata": {},
   "outputs": [],
   "source": []
  },
  {
   "cell_type": "code",
   "execution_count": null,
   "metadata": {},
   "outputs": [],
   "source": [
    "Yt_hat = network.get_std_mean_MC_dropout(forward_model, create_sub_samples, ref_bathy, rec_len, nx, save_data = False)"
   ]
  },
  {
   "cell_type": "code",
   "execution_count": null,
   "metadata": {},
   "outputs": [],
   "source": []
  },
  {
   "cell_type": "code",
   "execution_count": null,
   "metadata": {},
   "outputs": [],
   "source": []
  },
  {
   "cell_type": "code",
   "execution_count": null,
   "metadata": {},
   "outputs": [],
   "source": []
  },
  {
   "cell_type": "code",
   "execution_count": null,
   "metadata": {},
   "outputs": [],
   "source": []
  },
  {
   "cell_type": "code",
   "execution_count": null,
   "metadata": {},
   "outputs": [],
   "source": [
    "c.shape"
   ]
  },
  {
   "cell_type": "code",
   "execution_count": null,
   "metadata": {},
   "outputs": [],
   "source": []
  },
  {
   "cell_type": "code",
   "execution_count": null,
   "metadata": {},
   "outputs": [],
   "source": []
  }
 ],
 "metadata": {
  "kernelspec": {
   "display_name": "Python 2",
   "language": "python",
   "name": "python2"
  },
  "language_info": {
   "codemirror_mode": {
    "name": "ipython",
    "version": 2
   },
   "file_extension": ".py",
   "mimetype": "text/x-python",
   "name": "python",
   "nbconvert_exporter": "python",
   "pygments_lexer": "ipython2",
   "version": "2.7.15"
  }
 },
 "nbformat": 4,
 "nbformat_minor": 2
}
